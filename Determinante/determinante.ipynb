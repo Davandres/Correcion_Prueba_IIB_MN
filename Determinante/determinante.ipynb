{
 "cells": [
  {
   "cell_type": "code",
   "execution_count": 20,
   "metadata": {},
   "outputs": [
    {
     "name": "stdout",
     "output_type": "stream",
     "text": [
      "[01-26 18:57:04][INFO] 2025-01-26 18:57:04.184397\n",
      "The autoreload extension is already loaded. To reload it, use:\n",
      "  %reload_ext autoreload\n"
     ]
    }
   ],
   "source": [
    "%load_ext autoreload"
   ]
  },
  {
   "cell_type": "markdown",
   "metadata": {},
   "source": [
    "# Examen"
   ]
  },
  {
   "cell_type": "markdown",
   "metadata": {},
   "source": [
    "## Determinante"
   ]
  },
  {
   "cell_type": "code",
   "execution_count": 35,
   "metadata": {},
   "outputs": [],
   "source": [
    "%autoreload 2\n",
    "from src import (\n",
    "    eliminacion_gaussiana,\n",
    "    descomposicion_LU,\n",
    "    resolver_LU,\n",
    "    matriz_aumentada,\n",
    "    separar_m_aumentada,\n",
    "    eliminacion_gaussiana_det,\n",
    ")\n",
    "\n",
    "import numpy as np\n",
    "# ####################################################################\n",
    "\n",
    "def calc_determinante(A: list[list[float]]) -> float:\n",
    "    \"\"\"Función que calcula el determinante de una matriz cuadrada usando eliminación gaussiana.\n",
    "\n",
    "    ## Parameters\n",
    "    ``A``: Matriz cuadrada de tamaño n x n.\n",
    "\n",
    "    ## Return\n",
    "    ``detA``: Determinante de la matriz A, redondeado a 2 decimales.\n",
    "    \"\"\"\n",
    "    if not isinstance(A, np.ndarray):\n",
    "        A = np.array(A, dtype=float)\n",
    "    assert A.shape[0] == A.shape[1], \"La matriz A debe ser cuadrada (n x n).\"\n",
    "\n",
    "    # Aplicar eliminación gaussiana para obtener la matriz triangular superior\n",
    "    A_triangular = eliminacion_gaussiana_det(A.copy())  # Usamos una copia para no modificar la original\n",
    "\n",
    "    # Calcular el determinante como el producto de la diagonal\n",
    "    detA = np.prod(np.diag(A_triangular))\n",
    "\n",
    "    # Redondear a 2 decimales\n",
    "    detA_redondeado = round(detA, 2)\n",
    "\n",
    "\n",
    "    return print(f\"Determinante = {detA_redondeado}\")\n",
    "\n"
   ]
  },
  {
   "cell_type": "markdown",
   "metadata": {},
   "source": [
    "# Ejercicio 1"
   ]
  },
  {
   "cell_type": "code",
   "execution_count": 36,
   "metadata": {},
   "outputs": [
    {
     "name": "stdout",
     "output_type": "stream",
     "text": [
      "Matriz triangular superior después de la eliminación gaussiana:\n",
      "[[  1.     0.     4.     3.     0.    -2.     3.     0.     1.     5.  ]\n",
      " [  0.     1.   -12.   -10.     0.     8.    -9.    -1.    -4.   -18.  ]\n",
      " [  0.     0.    19.    15.    -3.   -10.    10.     0.     9.    16.  ]\n",
      " [  0.     0.     0.    -0.21  -7.16  -1.53  -1.47  -3.    12.47 -18.16]\n",
      " [  0.     0.     0.     0.    21.     0.    19.    11.   -25.    63.  ]\n",
      " [  0.     0.     0.     0.     0.    17.   -55.86  -8.29 -55.71 -25.  ]\n",
      " [  0.     0.     0.     0.     0.     0.     2.95  -0.12  15.32 -12.06]\n",
      " [  0.     0.     0.     0.     0.     0.     0.     1.23  14.62   2.02]\n",
      " [  0.     0.     0.     0.     0.     0.     0.     0.    64.7  -27.09]\n",
      " [  0.     0.     0.     0.     0.     0.     0.     0.     0.    29.44]]\n",
      "Determinante = -9844877.7\n"
     ]
    }
   ],
   "source": [
    "A1 = [\n",
    "    [-4, 2, -4, -4, 1, 2, 5, 3, 5, 1],\n",
    "    [1, 0, 4, 3, 0, -2, 3, 0, 1, 5],\n",
    "    [5, 5, -4, 5, -4, 2, 2, 2, 4, 4],\n",
    "    [-1, 3, 4, -1, -4, 0, 5, 0, 0, 5],\n",
    "    [4, 1, 4, 2, 0, 0, 3, -1, 0, 2],\n",
    "    [2, -2, 1, -1, -2, -3, 2, -2, 4, -1],\n",
    "    [3, -2, -3, -2, -1, -3, 5, -1, 5, 0],\n",
    "    [3, 4, -3, 3, -2, 2, -4, -4, 1, 5],\n",
    "    [-4, 0, 3, 3, -3, -2, -2, 0, 5, -4],\n",
    "    [-2, 4, 4, -2, -1, 1, 5, -1, 3, -3],\n",
    "]\n",
    "calc_determinante(A1)"
   ]
  },
  {
   "cell_type": "markdown",
   "metadata": {},
   "source": [
    "# Ejercicio 2"
   ]
  },
  {
   "cell_type": "code",
   "execution_count": 37,
   "metadata": {},
   "outputs": [
    {
     "name": "stdout",
     "output_type": "stream",
     "text": [
      "Matriz triangular superior después de la eliminación gaussiana:\n",
      "[[ -1.    -1.     3.     2.     1.     1.    -4.     4.  ]\n",
      " [  0.    -1.    15.    13.     9.     4.   -23.    18.  ]\n",
      " [  0.     0.    10.     9.     0.    -1.    -6.     6.  ]\n",
      " [  0.     0.     0.     2.3  -65.   -35.7  102.8  -60.8 ]\n",
      " [  0.     0.     0.     0.   -63.43 -28.87  99.83 -48.39]\n",
      " [  0.     0.     0.     0.     0.    10.    -5.4    9.2 ]\n",
      " [  0.     0.     0.     0.     0.     0.    13.27   9.54]\n",
      " [  0.     0.     0.     0.     0.     0.     0.   -12.09]]\n",
      "Determinante = 2340559.96\n"
     ]
    }
   ],
   "source": [
    "A2 = [\n",
    "    [2, 2, 4, 5, -2, -3, 2, -2],\n",
    "    [-1, -1, 3, 2, 1, 1, -4, 4],\n",
    "    [2, 5, -3, -3, -2, 2, 5, 3],\n",
    "    [-2, -4, 0, 1, -1, 5, -4, -1],\n",
    "    [1, -2, -1, 5, 5, 2, 1, -2],     \n",
    "    [5, 4, 0, 3, 4, -1, -3, -2],\n",
    "    [4, -4, 1, 2, 3, 3, -1, 3],\n",
    "    [-2, 1, -3, 0, 5, 4, 4, -4],\n",
    "]\n",
    "calc_determinante(A2)"
   ]
  },
  {
   "cell_type": "code",
   "execution_count": null,
   "metadata": {},
   "outputs": [],
   "source": []
  },
  {
   "cell_type": "markdown",
   "metadata": {},
   "source": [
    "# Cambios realizados:\n",
    "\n",
    "1.- Realice una nueva funcion: *eliminacion_gaussiana_det*, para ir comparando con la original, y evitar perder tiempo.\n",
    "\n",
    "2.- Con la funcion *eliminacion_gaussiana()* me limite a que solamente llegue hacia transformar la matriz en una triangular superior,\n",
    "ya que despues de eso comienza la sustitución hacia atrás, y no me sirve esa parte del código.\n",
    "\n",
    "3.- Una vez que elimine la sustitucion hacia atrás, modifique el return para que retornara la matriz triangular superior.\n",
    "\n",
    "4.- Tambien modifique el codigo para que solo utilice matrices cuadradas (nxn) y no nx(n+1) como previamente estaba escrita.\n",
    "\n",
    "5.- Una vez con *eliminacion_gaussiana_det* retornando la matriz triangular superior, solamente me quedo calcular el producto de los elementos \n",
    "de su diagonal con:\n",
    "\n",
    "*Calcular el determinante como el producto de la diagonal*\n",
    "\n",
    "    detA = np.prod(np.diag(A_triangular))\n",
    "\n",
    "6- Me tocó realizar un redondeo de los valores con un round, tanto para los valores de la matriz como el valor del determinante.\n",
    "\n",
    "7.- Se podía realizar un valor absoluto al valor del determinante para que sólo imprima valores positivos pero cómo el valor de un determinante\n",
    "negativo (Si el determinante es negativo, la orientación del espacio se invierte) podría ser usado en una futura función decidí no hacerlo.\n",
    "\n",
    "8.- el return print(f\"Determinante = {detA_redondeado}\") se debe para que no imprima directamente el valor y salga con el tipo de dato np.float64."
   ]
  },
  {
   "cell_type": "markdown",
   "metadata": {},
   "source": []
  }
 ],
 "metadata": {
  "kernelspec": {
   "display_name": "Python 3",
   "language": "python",
   "name": "python3"
  },
  "language_info": {
   "codemirror_mode": {
    "name": "ipython",
    "version": 3
   },
   "file_extension": ".py",
   "mimetype": "text/x-python",
   "name": "python",
   "nbconvert_exporter": "python",
   "pygments_lexer": "ipython3",
   "version": "3.12.8"
  }
 },
 "nbformat": 4,
 "nbformat_minor": 2
}
